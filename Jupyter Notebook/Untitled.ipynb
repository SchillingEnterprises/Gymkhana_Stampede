{
 "cells": [
  {
   "cell_type": "code",
   "execution_count": null,
   "metadata": {
    "collapsed": true
   },
   "outputs": [],
   "source": [
    "import json\n",
    "import requests\n",
    "\n",
    "\n",
    "api_token = 'your_api_token'\n",
    "\n",
    "\n",
    "api_url_base = 'https://api.digitalocean.com/v2/'\n",
    "\n",
    "\n",
    "headers = {'Content-Type': 'application/json',\n",
    "           'Authorization': 'Bearer {0}'.format(api_token)}\n",
    "\n",
    "\n",
    "def get_account_info():\n",
    "\n",
    "    api_url = '{0}account'.format(api_url_base)\n",
    "\n",
    "    response = requests.get(api_url, headers=headers)\n",
    "\n",
    "    if response.status_code == 200:\n",
    "        return json.loads(response.content.decode('utf-8'))\n",
    "    else:\n",
    "        return None\n",
    "\n",
    "\n",
    "account_info = get_account_info()\n",
    "\n",
    "\n",
    "if account_info is not None:\n",
    "    print(\"Here's your info: \")\n",
    "    for k, v in account_info['account'].items():\n",
    "        print('{0}:{1}'.format(k, v))\n",
    "\n",
    "\n",
    "else:\n",
    "    print('[!] Request Failed')"
   ]
  }
 ],
 "metadata": {
  "kernelspec": {
   "display_name": "Python 3",
   "language": "python",
   "name": "python3"
  },
  "language_info": {
   "codemirror_mode": {
    "name": "ipython",
    "version": 3
   },
   "file_extension": ".py",
   "mimetype": "text/x-python",
   "name": "python",
   "nbconvert_exporter": "python",
   "pygments_lexer": "ipython3",
   "version": "3.6.3"
  }
 },
 "nbformat": 4,
 "nbformat_minor": 2
}
