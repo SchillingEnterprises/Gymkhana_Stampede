{
 "cells": [
  {
   "cell_type": "heading",
   "metadata": {},
   "level": 1,
   "source": [
    "A Study in Mass School Shootings in the United States of America"
   ]
  },
  {
   "cell_type": "heading",
   "metadata": {},
   "level": 2,
   "source": [
    "By: Gavin Schilling"
   ]
  },
  {
   "cell_type": "heading",
   "metadata": {},
   "level": 3,
   "source": [
    "Introduction"
   ]
  },
  {
   "cell_type": "markdown",
   "metadata": {},
   "source": [
    "While there are records of instances of school shootings in the United States dating back to the Enoch Brown school massacre in Greencastle, PA on July 26, 1764, the first mass school shooting according to the modern convention of counting a mass school shooting as being a three person or more causualty on the actual school grounds did not occur until March 26, 1893 in Plain Dealing, LA during an evening dance at the school.  According to Wikipedia beween then and 1966 only three other mass school shottings occured.  They were as follows:\n",
    "* The December 13, 1898 Charleston, WV school exhibition incident killing 6 and wounding at least 1 other\n",
    "* The May 6, 1940 Pasadena, CA - South Pasadena Junior High School - murders leaving 5 dead and 2 others wounded\n",
    "* The February 2, 1960 Hartford City, IN - William Reed School - shooting killing 3\n",
    "This means that only four modern day standard mass school shootings occured before 1966 even though around 130 school-related shootings are on record with Wikipedia from this early time period in America history, they not meeting the modern definition of being an actual mass school shooting by today's standards.\n",
    "\n",
    "In 1968 & 1970, a total of 9 student protesters were killed and another 48 were injured at the hands of United States government officers.  These three incidents included the disgraceful South Carolina State University racist protesters in Orangeburg, SC on February 8, 1968, the Kent State University Vietnam War protesters by armed National Guard solders on May 4, 1970 in Kent, OH, and police shot the protestors at the Jackson State University United States military presence in Cambodia on May 15, 1970 (only eleven days following the Kent State massacre) in Jackson, MS.\n",
    "\n",
    "While, the Columbine High School massacre did not happen until 1999, these attacks by the United States government and the August 1, 1966 University of Texas - Austin massacre in Austin, Texas killing 17 and wounding 31 paired with the November 12, 1966 (roughly 3.5 months after the University of Texas massacre) in Mesa, AZ where 5 died and another 2 were injured, set off a new type of shock value the vast number killed in a particular incident.\n",
    "\n",
    "Now, in the first month and a half of 2018, the United States not only has had the deadliest mass school shooting in United States history, but has had a school shooting rate increase to 1 occuring in every 60 hours.  Many National Rifle Association backed politicans continue to look the other way or actively try to stawl any and all gun-control reform or legislation."
   ]
  },
  {
   "cell_type": "heading",
   "metadata": {},
   "level": 3,
   "source": [
    "Hypothesis"
   ]
  },
  {
   "cell_type": "markdown",
   "metadata": {},
   "source": [
    "While it is clear that gun violence is not possible without guns, the interpretation of the \"Second Amendment\" of \"The Bill of Rights\" to the \"United States Constitution\" protects at least some of her citizens to bare arms under certain well-regulated circumstances.  Which there in this the Founders brilliance lies both the pearl of wisdom and the rub.  It is clear from the wording of this ammendment verses all the others that the Founders signing the Constitution clearly intended it to have breathing room in case of a foreign invasion, civil war, hunting, or any other communal benefit as escribed by the federal government as it is their most basic duty to The People to pretect and defend the country and all her citizens.\n",
    "\n",
    "Having said that, I believe we as a society have run a stray regarding gun mentality.  In the days of the \"Wild West,\" salon and high noon shootouts occurred frequently.  So, did bandits, robbers, and criminal behaviors we have tried desparately to outlaw ever since -- sometimes to what appears no to little avail."
   ]
  },
  {
   "cell_type": "heading",
   "metadata": {},
   "level": 3,
   "source": [
    "Procedures"
   ]
  },
  {
   "cell_type": "markdown",
   "metadata": {},
   "source": [
    "Like any Python project, it is always best practice to put all your import libraries at the top of a file both for easy access and documenting reference; as well as, for the functional purpose of ensuring the file has properly loaded the libraries prior to their need within the program itself."
   ]
  },
  {
   "cell_type": "code",
   "execution_count": 1,
   "metadata": {
    "collapsed": false
   },
   "outputs": [],
   "source": [
    "# Import Libraries\n",
    "\n",
    "from csv import DictReader\n",
    "from io import BytesIO\n",
    "from sqlite3 import connect, Error, version\n",
    "from urllib.request import build_opener, urlopen\n",
    "from zipfile import ZipFile\n",
    "import json\n",
    "import pandas as pd\n",
    "import requests\n",
    "from bs4 import BeautifulSoup\n",
    "from openpyxl import load_workbook\n",
    "import bokeh\n",
    "import numpy"
   ]
  },
  {
   "cell_type": "markdown",
   "metadata": {},
   "source": [
    "Next, let's retrieve the datasets necessary for the project via the internet."
   ]
  },
  {
   "cell_type": "code",
   "execution_count": 2,
   "metadata": {
    "collapsed": true
   },
   "outputs": [
    {
     "data": {
      "text/plain": [
       "['MSA/',\n 'MSA/Stanford_MSA_Data_Dictionary (V.5).pdf',\n '__MACOSX/',\n '__MACOSX/MSA/',\n '__MACOSX/MSA/._Stanford_MSA_Data_Dictionary (V.5).pdf',\n 'MSA/Stanford_MSA_Database_for_release_06142016.xlsx',\n '__MACOSX/MSA/._Stanford_MSA_Database_for_release_06142016.xlsx']"
      ]
     },
     "execution_count": 2,
     "metadata": {},
     "output_type": "execute_result"
    }
   ],
   "source": [
    "# Unzip Stanford MSA Database CSV file\n",
    "\n",
    "msa_url = urlopen(\"https://stanford.box.com/shared/static/75lmj9rvw9mhtfqfjijhcc6oa15o5m4a.zip\")\n",
    "zipfile = ZipFile(BytesIO(msa_url.read()))\n",
    "zipfile.namelist()"
   ]
  },
  {
   "cell_type": "code",
   "execution_count": 3,
   "metadata": {},
   "outputs": [
    {
     "name": "stdout",
     "output_type": "stream",
     "text": [
      "<Worksheet \"Published\">\n"
     ]
    }
   ],
   "source": [
    "# Load Workbook & Proper Worksheet\n",
    "\n",
    "wb = load_workbook(zipfile.extract('MSA/Stanford_MSA_Database_for_release_06142016.xlsx','store', pwd=None))\n",
    "ws = wb['Published']\n",
    "print(ws)"
   ]
  },
  {
   "cell_type": "code",
   "execution_count": 4,
   "metadata": {},
   "outputs": [],
   "source": [
    "# Convert Excel file to Comma Separated Values file\n",
    "\n",
    "msa_xls = pd.read_excel('store/MSA/Stanford_MSA_Database_for_release_06142016.xlsx', 'Published', index_col=None)\n",
    "msa_xls.to_csv('store/MSA/Stanford_MSA_Database_for_release.csv', encoding='utf-8', index=False)"
   ]
  },
  {
   "cell_type": "code",
   "execution_count": 10,
   "metadata": {},
   "outputs": [
    {
     "name": "stdout",
     "output_type": "stream",
     "text": [
      "2.6.0\n[None]\nnear \"<\": syntax error\n"
     ]
    }
   ],
   "source": [
    "# Create a SQL database connection\n",
    "\n",
    "conn = connect('temp/truth.sql')\n",
    "print(version)\n",
    "\n",
    "conn.text_factory = str  # allows utf-8 data to be stored\n",
    "\n",
    "c = conn.cursor()\n",
    "\n",
    "tablename = \"Shootings\"\n",
    "\n",
    "with open('store/MSA/Stanford_MSA_Database_for_release.csv', newline='') as csvfile:\n",
    "    msa_reader = DictReader(csvfile, delimiter=\",\", dialect='excel', quotechar='\"')\n",
    "\n",
    "    header = True\n",
    "    for row in msa_reader:\n",
    "        try:\n",
    "            if header:\n",
    "                # gather column names from the first row of the csv\n",
    "                header = False\n",
    "\n",
    "                sql = \"DROP TABLE IF EXISTS %s\" % tablename\n",
    "                c.execute(sql)\n",
    "\n",
    "                column_name_correction = []\n",
    "                print([column_name_correction.append(column.replace(' ', '_') for column in row )])\n",
    "                # print(\", \".join([ \"%s text\" % column for column in column_name_correction ]))\n",
    "                sql = \"CREATE TABLE %s (%s)\" % (tablename,\n",
    "                                                \", \".join([ \"%s text\" % column for column in column_name_correction ]))\n",
    "                c.execute(sql)\n",
    "                # print(c.execute(sql))\n",
    "\n",
    "                for column in row:\n",
    "                    if column.lower().endswith(\"_id\"):\n",
    "                        index = \"%s__%s\" % ( tablename, column )\n",
    "                        sql = \"CREATE INDEX %s on %s (%s)\" % ( index, tablename, column )\n",
    "                        c.execute(sql)\n",
    "                        # print(c.execute(sql))\n",
    "\n",
    "            insertsql = \"INSERT INTO %s VALUES (%s)\" % (tablename,\n",
    "                                                            \", \".join([ \"?\" for column in row ]))\n",
    "            # print(insertsql)\n",
    "\n",
    "            rowlen = len(row)\n",
    "            # else:\n",
    "            #     # skip lines that don't have the right number of columns\n",
    "            #     if len(row) == rowlen:\n",
    "            #         c.execute(insertsql, row)\n",
    "        except Error as error:\n",
    "            exit('file {}, line {}: {}'.format(csvfile, msa_reader.line_num, error))\n",
    "            print(error)\n",
    "\n",
    "    conn.commit()"
   ]
  },
  {
   "cell_type": "code",
   "execution_count": 6,
   "metadata": {},
   "outputs": [
    {
     "name": "stdout",
     "output_type": "stream",
     "text": [
      "<script charset=\"utf-8\" src=\"js/base.js?c=a90e33a675e9d0ac31328c0ce0d2e12b16035540\" type=\"text/javascript\"></script>\n"
     ]
    }
   ],
   "source": [
    "# File for Web Scrapping & Parsing\n",
    "\n",
    "gun_legislation_url = 'https://www.washingtonpost.com/graphics/national/gun-legislation/'\n",
    "gun_legislation_html_soup = BeautifulSoup(urlopen(gun_legislation_url), 'html.parser')\n",
    "stats_json_string = gun_legislation_html_soup.find('script', attrs={'src': 'js/base.js?c=a90e33a675e9d0ac31328c0ce0d2e12b16035540'})\n",
    "print(stats_json_string)"
   ]
  },
  {
   "cell_type": "code",
   "execution_count": 7,
   "metadata": {
    "collapsed": false
   },
   "outputs": [],
   "source": [
    "full_gun_legislation_url = 'https://www.washingtonpost.com/graphics/national/gun-legislation/js/base.js?c=a90e33a675e9d0ac31328c0ce0d2e12b16035540'\n",
    "legislation_request = requests.get(full_gun_legislation_url)\n",
    "\n",
    "try:\n",
    "    # print(legislation_request.headers)\n",
    "    b = legislation_request.text.find(\"{first:\")\n",
    "    e = legislation_request.text.find(\"{}],2:\")\n",
    "    scrape = legislation_request.text[b - 1:e - 2]\n",
    "\n",
    "    scrape = scrape.replace('first:', '\"first\":')\n",
    "    scrape = scrape.replace('last:', '\"last\":')\n",
    "    scrape = scrape.replace('fullLast:', '\"fullLast\":')\n",
    "    scrape = scrape.replace('party:', '\"party\":')\n",
    "    scrape = scrape.replace('house:', '\"house\":')\n",
    "    scrape = scrape.replace('state:', '\"state\":')\n",
    "    scrape = scrape.replace('control:', '\"control\":')\n",
    "    scrape = scrape.replace('rights:', '\"rights\":')\n",
    "    scrape = scrape.replace('id:', '\"id\":')\n",
    "    scrape = scrape.replace('score:', '\"score\":')\n",
    "    scrape = scrape.replace('pi:', '\"pi\":')\n",
    "    scrape = scrape.replace('grade:', '\"grade\":')\n",
    "    scrape = scrape.replace('gi:', '\"gi\":')\n",
    "\n",
    "    scrape = json.dumps(scrape)\n",
    "    print(scrape)\n",
    "\n",
    "except Error as error:\n",
    "    legislation_request.status_code"
   ]
  },
  {
   "cell_type": "code",
   "execution_count": 8,
   "metadata": {},
   "outputs": [],
   "source": [
    "# Close the SQL connection to our SQLite database\n",
    "\n",
    "c.close()\n",
    "conn.close()"
   ]
  },
  {
   "cell_type": "code",
   "execution_count": null,
   "metadata": {},
   "outputs": [],
   "source": [
    "# Libby MacKenzie\n",
    "# Dash Kennedy\n"
   ]
  }
 ],
 "metadata": {
  "kernelspec": {
   "display_name": "Python 2",
   "language": "python",
   "name": "python2"
  },
  "language_info": {
   "codemirror_mode": {
    "name": "ipython",
    "version": 2
   },
   "file_extension": ".py",
   "mimetype": "text/x-python",
   "name": "python",
   "nbconvert_exporter": "python",
   "pygments_lexer": "ipython2",
   "version": "2.7.6"
  }
 },
 "nbformat": 4,
 "nbformat_minor": 0
}
